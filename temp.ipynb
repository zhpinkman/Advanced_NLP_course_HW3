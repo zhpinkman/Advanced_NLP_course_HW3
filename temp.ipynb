{
 "cells": [
  {
   "cell_type": "code",
   "execution_count": 1,
   "id": "fa517617-b7b8-4bc8-9b91-2f9ab014c565",
   "metadata": {},
   "outputs": [],
   "source": [
    "import pandas as pd\n",
    "import numpy as np"
   ]
  },
  {
   "cell_type": "code",
   "execution_count": 2,
   "id": "7e168a44-f451-4b48-b05c-a174771521f6",
   "metadata": {},
   "outputs": [],
   "source": [
    "with open(\"train.orig.conll\") as f:\n",
    "    data = f.read().splitlines()"
   ]
  },
  {
   "cell_type": "code",
   "execution_count": 3,
   "id": "5dc2dccc-aa4a-4fc8-abcf-f0e107d20713",
   "metadata": {},
   "outputs": [],
   "source": [
    "data = [line.split('\\t') for line in data]"
   ]
  },
  {
   "cell_type": "code",
   "execution_count": null,
   "id": "c7338636-68d6-4c96-bd28-428be8d40fa6",
   "metadata": {},
   "outputs": [],
   "source": [
    "data"
   ]
  }
 ],
 "metadata": {
  "kernelspec": {
   "display_name": "Python 3.10.4 ('cpu')",
   "language": "python",
   "name": "python3"
  },
  "language_info": {
   "codemirror_mode": {
    "name": "ipython",
    "version": 3
   },
   "file_extension": ".py",
   "mimetype": "text/x-python",
   "name": "python",
   "nbconvert_exporter": "python",
   "pygments_lexer": "ipython3",
   "version": "3.10.4"
  },
  "vscode": {
   "interpreter": {
    "hash": "633161fe0ba17fb17441f37e78ee62647412cabaeb5286dee9ea24a88b4a361a"
   }
  }
 },
 "nbformat": 4,
 "nbformat_minor": 5
}
